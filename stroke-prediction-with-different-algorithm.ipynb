{
 "cells": [
  {
   "cell_type": "code",
   "execution_count": 1,
   "id": "upset-trace",
   "metadata": {
    "_cell_guid": "b1076dfc-b9ad-4769-8c92-a6c4dae69d19",
    "_uuid": "8f2839f25d086af736a60e9eeb907d3b93b6e0e5",
    "execution": {
     "iopub.execute_input": "2021-05-07T05:46:58.553442Z",
     "iopub.status.busy": "2021-05-07T05:46:58.552911Z",
     "iopub.status.idle": "2021-05-07T05:46:58.566954Z",
     "shell.execute_reply": "2021-05-07T05:46:58.566319Z"
    },
    "papermill": {
     "duration": 0.047388,
     "end_time": "2021-05-07T05:46:58.567090",
     "exception": false,
     "start_time": "2021-05-07T05:46:58.519702",
     "status": "completed"
    },
    "tags": []
   },
   "outputs": [
    {
     "name": "stdout",
     "output_type": "stream",
     "text": [
      "/kaggle/input/stroke-prediction-dataset/healthcare-dataset-stroke-data.csv\n"
     ]
    }
   ],
   "source": [
    "# This Python 3 environment comes with many helpful analytics libraries installed\n",
    "# It is defined by the kaggle/python Docker image: https://github.com/kaggle/docker-python\n",
    "# For example, here's several helpful packages to load\n",
    "\n",
    "import numpy as np # linear algebra\n",
    "import pandas as pd # data processing, CSV file I/O (e.g. pd.read_csv)\n",
    "\n",
    "# Input data files are available in the read-only \"../input/\" directory\n",
    "# For example, running this (by clicking run or pressing Shift+Enter) will list all files under the input directory\n",
    "\n",
    "import os\n",
    "for dirname, _, filenames in os.walk('/kaggle/input'):\n",
    "    for filename in filenames:\n",
    "        print(os.path.join(dirname, filename))\n",
    "\n",
    "# You can write up to 20GB to the current directory (/kaggle/working/) that gets preserved as output when you create a version using \"Save & Run All\" \n",
    "# You can also write temporary files to /kaggle/temp/, but they won't be saved outside of the current session"
   ]
  },
  {
   "cell_type": "code",
   "execution_count": 2,
   "id": "adequate-wayne",
   "metadata": {
    "execution": {
     "iopub.execute_input": "2021-05-07T05:46:58.610387Z",
     "iopub.status.busy": "2021-05-07T05:46:58.609627Z",
     "iopub.status.idle": "2021-05-07T05:46:58.681723Z",
     "shell.execute_reply": "2021-05-07T05:46:58.681003Z"
    },
    "papermill": {
     "duration": 0.095992,
     "end_time": "2021-05-07T05:46:58.681869",
     "exception": false,
     "start_time": "2021-05-07T05:46:58.585877",
     "status": "completed"
    },
    "tags": []
   },
   "outputs": [
    {
     "data": {
      "text/html": [
       "<div>\n",
       "<style scoped>\n",
       "    .dataframe tbody tr th:only-of-type {\n",
       "        vertical-align: middle;\n",
       "    }\n",
       "\n",
       "    .dataframe tbody tr th {\n",
       "        vertical-align: top;\n",
       "    }\n",
       "\n",
       "    .dataframe thead th {\n",
       "        text-align: right;\n",
       "    }\n",
       "</style>\n",
       "<table border=\"1\" class=\"dataframe\">\n",
       "  <thead>\n",
       "    <tr style=\"text-align: right;\">\n",
       "      <th></th>\n",
       "      <th>id</th>\n",
       "      <th>gender</th>\n",
       "      <th>age</th>\n",
       "      <th>hypertension</th>\n",
       "      <th>heart_disease</th>\n",
       "      <th>ever_married</th>\n",
       "      <th>work_type</th>\n",
       "      <th>Residence_type</th>\n",
       "      <th>avg_glucose_level</th>\n",
       "      <th>bmi</th>\n",
       "      <th>smoking_status</th>\n",
       "      <th>stroke</th>\n",
       "    </tr>\n",
       "  </thead>\n",
       "  <tbody>\n",
       "    <tr>\n",
       "      <th>0</th>\n",
       "      <td>9046</td>\n",
       "      <td>Male</td>\n",
       "      <td>67.0</td>\n",
       "      <td>0</td>\n",
       "      <td>1</td>\n",
       "      <td>Yes</td>\n",
       "      <td>Private</td>\n",
       "      <td>Urban</td>\n",
       "      <td>228.69</td>\n",
       "      <td>36.6</td>\n",
       "      <td>formerly smoked</td>\n",
       "      <td>1</td>\n",
       "    </tr>\n",
       "    <tr>\n",
       "      <th>1</th>\n",
       "      <td>51676</td>\n",
       "      <td>Female</td>\n",
       "      <td>61.0</td>\n",
       "      <td>0</td>\n",
       "      <td>0</td>\n",
       "      <td>Yes</td>\n",
       "      <td>Self-employed</td>\n",
       "      <td>Rural</td>\n",
       "      <td>202.21</td>\n",
       "      <td>NaN</td>\n",
       "      <td>never smoked</td>\n",
       "      <td>1</td>\n",
       "    </tr>\n",
       "    <tr>\n",
       "      <th>2</th>\n",
       "      <td>31112</td>\n",
       "      <td>Male</td>\n",
       "      <td>80.0</td>\n",
       "      <td>0</td>\n",
       "      <td>1</td>\n",
       "      <td>Yes</td>\n",
       "      <td>Private</td>\n",
       "      <td>Rural</td>\n",
       "      <td>105.92</td>\n",
       "      <td>32.5</td>\n",
       "      <td>never smoked</td>\n",
       "      <td>1</td>\n",
       "    </tr>\n",
       "    <tr>\n",
       "      <th>3</th>\n",
       "      <td>60182</td>\n",
       "      <td>Female</td>\n",
       "      <td>49.0</td>\n",
       "      <td>0</td>\n",
       "      <td>0</td>\n",
       "      <td>Yes</td>\n",
       "      <td>Private</td>\n",
       "      <td>Urban</td>\n",
       "      <td>171.23</td>\n",
       "      <td>34.4</td>\n",
       "      <td>smokes</td>\n",
       "      <td>1</td>\n",
       "    </tr>\n",
       "    <tr>\n",
       "      <th>4</th>\n",
       "      <td>1665</td>\n",
       "      <td>Female</td>\n",
       "      <td>79.0</td>\n",
       "      <td>1</td>\n",
       "      <td>0</td>\n",
       "      <td>Yes</td>\n",
       "      <td>Self-employed</td>\n",
       "      <td>Rural</td>\n",
       "      <td>174.12</td>\n",
       "      <td>24.0</td>\n",
       "      <td>never smoked</td>\n",
       "      <td>1</td>\n",
       "    </tr>\n",
       "  </tbody>\n",
       "</table>\n",
       "</div>"
      ],
      "text/plain": [
       "      id  gender   age  hypertension  heart_disease ever_married  \\\n",
       "0   9046    Male  67.0             0              1          Yes   \n",
       "1  51676  Female  61.0             0              0          Yes   \n",
       "2  31112    Male  80.0             0              1          Yes   \n",
       "3  60182  Female  49.0             0              0          Yes   \n",
       "4   1665  Female  79.0             1              0          Yes   \n",
       "\n",
       "       work_type Residence_type  avg_glucose_level   bmi   smoking_status  \\\n",
       "0        Private          Urban             228.69  36.6  formerly smoked   \n",
       "1  Self-employed          Rural             202.21   NaN     never smoked   \n",
       "2        Private          Rural             105.92  32.5     never smoked   \n",
       "3        Private          Urban             171.23  34.4           smokes   \n",
       "4  Self-employed          Rural             174.12  24.0     never smoked   \n",
       "\n",
       "   stroke  \n",
       "0       1  \n",
       "1       1  \n",
       "2       1  \n",
       "3       1  \n",
       "4       1  "
      ]
     },
     "execution_count": 2,
     "metadata": {},
     "output_type": "execute_result"
    }
   ],
   "source": [
    "data = pd.read_csv(\"/kaggle/input/stroke-prediction-dataset/healthcare-dataset-stroke-data.csv\")\n",
    "data.head()"
   ]
  },
  {
   "cell_type": "code",
   "execution_count": 3,
   "id": "structured-bridge",
   "metadata": {
    "execution": {
     "iopub.execute_input": "2021-05-07T05:46:58.749978Z",
     "iopub.status.busy": "2021-05-07T05:46:58.749415Z",
     "iopub.status.idle": "2021-05-07T05:46:58.756007Z",
     "shell.execute_reply": "2021-05-07T05:46:58.755538Z"
    },
    "papermill": {
     "duration": 0.045818,
     "end_time": "2021-05-07T05:46:58.756127",
     "exception": false,
     "start_time": "2021-05-07T05:46:58.710309",
     "status": "completed"
    },
    "tags": []
   },
   "outputs": [
    {
     "data": {
      "text/plain": [
       "id                     0\n",
       "gender                 0\n",
       "age                    0\n",
       "hypertension           0\n",
       "heart_disease          0\n",
       "ever_married           0\n",
       "work_type              0\n",
       "Residence_type         0\n",
       "avg_glucose_level      0\n",
       "bmi                  201\n",
       "smoking_status         0\n",
       "stroke                 0\n",
       "dtype: int64"
      ]
     },
     "execution_count": 3,
     "metadata": {},
     "output_type": "execute_result"
    }
   ],
   "source": [
    "data.isnull().sum()"
   ]
  },
  {
   "cell_type": "code",
   "execution_count": 4,
   "id": "whole-stocks",
   "metadata": {
    "execution": {
     "iopub.execute_input": "2021-05-07T05:46:58.804368Z",
     "iopub.status.busy": "2021-05-07T05:46:58.803823Z",
     "iopub.status.idle": "2021-05-07T05:46:58.807778Z",
     "shell.execute_reply": "2021-05-07T05:46:58.808384Z"
    },
    "papermill": {
     "duration": 0.032748,
     "end_time": "2021-05-07T05:46:58.808554",
     "exception": false,
     "start_time": "2021-05-07T05:46:58.775806",
     "status": "completed"
    },
    "tags": []
   },
   "outputs": [],
   "source": [
    "data = data.fillna(0)"
   ]
  },
  {
   "cell_type": "code",
   "execution_count": 5,
   "id": "greek-powell",
   "metadata": {
    "execution": {
     "iopub.execute_input": "2021-05-07T05:46:58.850717Z",
     "iopub.status.busy": "2021-05-07T05:46:58.850131Z",
     "iopub.status.idle": "2021-05-07T05:46:58.862512Z",
     "shell.execute_reply": "2021-05-07T05:46:58.862896Z"
    },
    "papermill": {
     "duration": 0.035287,
     "end_time": "2021-05-07T05:46:58.863085",
     "exception": false,
     "start_time": "2021-05-07T05:46:58.827798",
     "status": "completed"
    },
    "tags": []
   },
   "outputs": [
    {
     "data": {
      "text/plain": [
       "id                   0\n",
       "gender               0\n",
       "age                  0\n",
       "hypertension         0\n",
       "heart_disease        0\n",
       "ever_married         0\n",
       "work_type            0\n",
       "Residence_type       0\n",
       "avg_glucose_level    0\n",
       "bmi                  0\n",
       "smoking_status       0\n",
       "stroke               0\n",
       "dtype: int64"
      ]
     },
     "execution_count": 5,
     "metadata": {},
     "output_type": "execute_result"
    }
   ],
   "source": [
    "data.isnull().sum()"
   ]
  },
  {
   "cell_type": "code",
   "execution_count": 6,
   "id": "sporting-doctor",
   "metadata": {
    "execution": {
     "iopub.execute_input": "2021-05-07T05:46:58.908977Z",
     "iopub.status.busy": "2021-05-07T05:46:58.908466Z",
     "iopub.status.idle": "2021-05-07T05:46:58.928018Z",
     "shell.execute_reply": "2021-05-07T05:46:58.927541Z"
    },
    "papermill": {
     "duration": 0.045234,
     "end_time": "2021-05-07T05:46:58.928153",
     "exception": false,
     "start_time": "2021-05-07T05:46:58.882919",
     "status": "completed"
    },
    "tags": []
   },
   "outputs": [
    {
     "data": {
      "text/html": [
       "<div>\n",
       "<style scoped>\n",
       "    .dataframe tbody tr th:only-of-type {\n",
       "        vertical-align: middle;\n",
       "    }\n",
       "\n",
       "    .dataframe tbody tr th {\n",
       "        vertical-align: top;\n",
       "    }\n",
       "\n",
       "    .dataframe thead th {\n",
       "        text-align: right;\n",
       "    }\n",
       "</style>\n",
       "<table border=\"1\" class=\"dataframe\">\n",
       "  <thead>\n",
       "    <tr style=\"text-align: right;\">\n",
       "      <th></th>\n",
       "      <th>id</th>\n",
       "      <th>gender</th>\n",
       "      <th>age</th>\n",
       "      <th>hypertension</th>\n",
       "      <th>heart_disease</th>\n",
       "      <th>ever_married</th>\n",
       "      <th>work_type</th>\n",
       "      <th>Residence_type</th>\n",
       "      <th>avg_glucose_level</th>\n",
       "      <th>bmi</th>\n",
       "      <th>smoking_status</th>\n",
       "      <th>stroke</th>\n",
       "    </tr>\n",
       "  </thead>\n",
       "  <tbody>\n",
       "    <tr>\n",
       "      <th>0</th>\n",
       "      <td>9046</td>\n",
       "      <td>Male</td>\n",
       "      <td>67.0</td>\n",
       "      <td>0</td>\n",
       "      <td>1</td>\n",
       "      <td>Yes</td>\n",
       "      <td>Private</td>\n",
       "      <td>Urban</td>\n",
       "      <td>228.69</td>\n",
       "      <td>36.6</td>\n",
       "      <td>formerly smoked</td>\n",
       "      <td>1</td>\n",
       "    </tr>\n",
       "    <tr>\n",
       "      <th>1</th>\n",
       "      <td>51676</td>\n",
       "      <td>Female</td>\n",
       "      <td>61.0</td>\n",
       "      <td>0</td>\n",
       "      <td>0</td>\n",
       "      <td>Yes</td>\n",
       "      <td>Self-employed</td>\n",
       "      <td>Rural</td>\n",
       "      <td>202.21</td>\n",
       "      <td>0.0</td>\n",
       "      <td>never smoked</td>\n",
       "      <td>1</td>\n",
       "    </tr>\n",
       "    <tr>\n",
       "      <th>2</th>\n",
       "      <td>31112</td>\n",
       "      <td>Male</td>\n",
       "      <td>80.0</td>\n",
       "      <td>0</td>\n",
       "      <td>1</td>\n",
       "      <td>Yes</td>\n",
       "      <td>Private</td>\n",
       "      <td>Rural</td>\n",
       "      <td>105.92</td>\n",
       "      <td>32.5</td>\n",
       "      <td>never smoked</td>\n",
       "      <td>1</td>\n",
       "    </tr>\n",
       "    <tr>\n",
       "      <th>3</th>\n",
       "      <td>60182</td>\n",
       "      <td>Female</td>\n",
       "      <td>49.0</td>\n",
       "      <td>0</td>\n",
       "      <td>0</td>\n",
       "      <td>Yes</td>\n",
       "      <td>Private</td>\n",
       "      <td>Urban</td>\n",
       "      <td>171.23</td>\n",
       "      <td>34.4</td>\n",
       "      <td>smokes</td>\n",
       "      <td>1</td>\n",
       "    </tr>\n",
       "    <tr>\n",
       "      <th>4</th>\n",
       "      <td>1665</td>\n",
       "      <td>Female</td>\n",
       "      <td>79.0</td>\n",
       "      <td>1</td>\n",
       "      <td>0</td>\n",
       "      <td>Yes</td>\n",
       "      <td>Self-employed</td>\n",
       "      <td>Rural</td>\n",
       "      <td>174.12</td>\n",
       "      <td>24.0</td>\n",
       "      <td>never smoked</td>\n",
       "      <td>1</td>\n",
       "    </tr>\n",
       "  </tbody>\n",
       "</table>\n",
       "</div>"
      ],
      "text/plain": [
       "      id  gender   age  hypertension  heart_disease ever_married  \\\n",
       "0   9046    Male  67.0             0              1          Yes   \n",
       "1  51676  Female  61.0             0              0          Yes   \n",
       "2  31112    Male  80.0             0              1          Yes   \n",
       "3  60182  Female  49.0             0              0          Yes   \n",
       "4   1665  Female  79.0             1              0          Yes   \n",
       "\n",
       "       work_type Residence_type  avg_glucose_level   bmi   smoking_status  \\\n",
       "0        Private          Urban             228.69  36.6  formerly smoked   \n",
       "1  Self-employed          Rural             202.21   0.0     never smoked   \n",
       "2        Private          Rural             105.92  32.5     never smoked   \n",
       "3        Private          Urban             171.23  34.4           smokes   \n",
       "4  Self-employed          Rural             174.12  24.0     never smoked   \n",
       "\n",
       "   stroke  \n",
       "0       1  \n",
       "1       1  \n",
       "2       1  \n",
       "3       1  \n",
       "4       1  "
      ]
     },
     "execution_count": 6,
     "metadata": {},
     "output_type": "execute_result"
    }
   ],
   "source": [
    "data.head()"
   ]
  },
  {
   "cell_type": "code",
   "execution_count": 7,
   "id": "hundred-enough",
   "metadata": {
    "execution": {
     "iopub.execute_input": "2021-05-07T05:46:58.982870Z",
     "iopub.status.busy": "2021-05-07T05:46:58.982199Z",
     "iopub.status.idle": "2021-05-07T05:46:58.998921Z",
     "shell.execute_reply": "2021-05-07T05:46:58.998339Z"
    },
    "papermill": {
     "duration": 0.05085,
     "end_time": "2021-05-07T05:46:58.999074",
     "exception": false,
     "start_time": "2021-05-07T05:46:58.948224",
     "status": "completed"
    },
    "tags": []
   },
   "outputs": [],
   "source": [
    "Gender = pd.get_dummies(data['gender'], drop_first=True)\n",
    "Ever_Married = pd.get_dummies(data['ever_married'], drop_first=True)\n",
    "Work_Type = pd.get_dummies(data['work_type'], drop_first=True)\n",
    "residence_type = pd.get_dummies(data['Residence_type'], drop_first=True)\n",
    "Smoking_Status = pd.get_dummies(data['smoking_status'], drop_first=True)\n",
    "\n",
    "data = pd.concat([data,Gender,Ever_Married, Work_Type, residence_type, Smoking_Status],axis=1)\n",
    "data = data.drop(['gender', 'ever_married', 'work_type', 'Residence_type', 'smoking_status'], axis = 'columns')"
   ]
  },
  {
   "cell_type": "code",
   "execution_count": 8,
   "id": "alpine-dragon",
   "metadata": {
    "execution": {
     "iopub.execute_input": "2021-05-07T05:46:59.080257Z",
     "iopub.status.busy": "2021-05-07T05:46:59.079546Z",
     "iopub.status.idle": "2021-05-07T05:46:59.082760Z",
     "shell.execute_reply": "2021-05-07T05:46:59.083617Z"
    },
    "papermill": {
     "duration": 0.053018,
     "end_time": "2021-05-07T05:46:59.083822",
     "exception": false,
     "start_time": "2021-05-07T05:46:59.030804",
     "status": "completed"
    },
    "tags": []
   },
   "outputs": [
    {
     "data": {
      "text/html": [
       "<div>\n",
       "<style scoped>\n",
       "    .dataframe tbody tr th:only-of-type {\n",
       "        vertical-align: middle;\n",
       "    }\n",
       "\n",
       "    .dataframe tbody tr th {\n",
       "        vertical-align: top;\n",
       "    }\n",
       "\n",
       "    .dataframe thead th {\n",
       "        text-align: right;\n",
       "    }\n",
       "</style>\n",
       "<table border=\"1\" class=\"dataframe\">\n",
       "  <thead>\n",
       "    <tr style=\"text-align: right;\">\n",
       "      <th></th>\n",
       "      <th>id</th>\n",
       "      <th>age</th>\n",
       "      <th>hypertension</th>\n",
       "      <th>heart_disease</th>\n",
       "      <th>avg_glucose_level</th>\n",
       "      <th>bmi</th>\n",
       "      <th>stroke</th>\n",
       "      <th>Male</th>\n",
       "      <th>Other</th>\n",
       "      <th>Yes</th>\n",
       "      <th>Never_worked</th>\n",
       "      <th>Private</th>\n",
       "      <th>Self-employed</th>\n",
       "      <th>children</th>\n",
       "      <th>Urban</th>\n",
       "      <th>formerly smoked</th>\n",
       "      <th>never smoked</th>\n",
       "      <th>smokes</th>\n",
       "    </tr>\n",
       "  </thead>\n",
       "  <tbody>\n",
       "    <tr>\n",
       "      <th>0</th>\n",
       "      <td>9046</td>\n",
       "      <td>67.0</td>\n",
       "      <td>0</td>\n",
       "      <td>1</td>\n",
       "      <td>228.69</td>\n",
       "      <td>36.6</td>\n",
       "      <td>1</td>\n",
       "      <td>1</td>\n",
       "      <td>0</td>\n",
       "      <td>1</td>\n",
       "      <td>0</td>\n",
       "      <td>1</td>\n",
       "      <td>0</td>\n",
       "      <td>0</td>\n",
       "      <td>1</td>\n",
       "      <td>1</td>\n",
       "      <td>0</td>\n",
       "      <td>0</td>\n",
       "    </tr>\n",
       "    <tr>\n",
       "      <th>1</th>\n",
       "      <td>51676</td>\n",
       "      <td>61.0</td>\n",
       "      <td>0</td>\n",
       "      <td>0</td>\n",
       "      <td>202.21</td>\n",
       "      <td>0.0</td>\n",
       "      <td>1</td>\n",
       "      <td>0</td>\n",
       "      <td>0</td>\n",
       "      <td>1</td>\n",
       "      <td>0</td>\n",
       "      <td>0</td>\n",
       "      <td>1</td>\n",
       "      <td>0</td>\n",
       "      <td>0</td>\n",
       "      <td>0</td>\n",
       "      <td>1</td>\n",
       "      <td>0</td>\n",
       "    </tr>\n",
       "    <tr>\n",
       "      <th>2</th>\n",
       "      <td>31112</td>\n",
       "      <td>80.0</td>\n",
       "      <td>0</td>\n",
       "      <td>1</td>\n",
       "      <td>105.92</td>\n",
       "      <td>32.5</td>\n",
       "      <td>1</td>\n",
       "      <td>1</td>\n",
       "      <td>0</td>\n",
       "      <td>1</td>\n",
       "      <td>0</td>\n",
       "      <td>1</td>\n",
       "      <td>0</td>\n",
       "      <td>0</td>\n",
       "      <td>0</td>\n",
       "      <td>0</td>\n",
       "      <td>1</td>\n",
       "      <td>0</td>\n",
       "    </tr>\n",
       "    <tr>\n",
       "      <th>3</th>\n",
       "      <td>60182</td>\n",
       "      <td>49.0</td>\n",
       "      <td>0</td>\n",
       "      <td>0</td>\n",
       "      <td>171.23</td>\n",
       "      <td>34.4</td>\n",
       "      <td>1</td>\n",
       "      <td>0</td>\n",
       "      <td>0</td>\n",
       "      <td>1</td>\n",
       "      <td>0</td>\n",
       "      <td>1</td>\n",
       "      <td>0</td>\n",
       "      <td>0</td>\n",
       "      <td>1</td>\n",
       "      <td>0</td>\n",
       "      <td>0</td>\n",
       "      <td>1</td>\n",
       "    </tr>\n",
       "    <tr>\n",
       "      <th>4</th>\n",
       "      <td>1665</td>\n",
       "      <td>79.0</td>\n",
       "      <td>1</td>\n",
       "      <td>0</td>\n",
       "      <td>174.12</td>\n",
       "      <td>24.0</td>\n",
       "      <td>1</td>\n",
       "      <td>0</td>\n",
       "      <td>0</td>\n",
       "      <td>1</td>\n",
       "      <td>0</td>\n",
       "      <td>0</td>\n",
       "      <td>1</td>\n",
       "      <td>0</td>\n",
       "      <td>0</td>\n",
       "      <td>0</td>\n",
       "      <td>1</td>\n",
       "      <td>0</td>\n",
       "    </tr>\n",
       "  </tbody>\n",
       "</table>\n",
       "</div>"
      ],
      "text/plain": [
       "      id   age  hypertension  heart_disease  avg_glucose_level   bmi  stroke  \\\n",
       "0   9046  67.0             0              1             228.69  36.6       1   \n",
       "1  51676  61.0             0              0             202.21   0.0       1   \n",
       "2  31112  80.0             0              1             105.92  32.5       1   \n",
       "3  60182  49.0             0              0             171.23  34.4       1   \n",
       "4   1665  79.0             1              0             174.12  24.0       1   \n",
       "\n",
       "   Male  Other  Yes  Never_worked  Private  Self-employed  children  Urban  \\\n",
       "0     1      0    1             0        1              0         0      1   \n",
       "1     0      0    1             0        0              1         0      0   \n",
       "2     1      0    1             0        1              0         0      0   \n",
       "3     0      0    1             0        1              0         0      1   \n",
       "4     0      0    1             0        0              1         0      0   \n",
       "\n",
       "   formerly smoked  never smoked  smokes  \n",
       "0                1             0       0  \n",
       "1                0             1       0  \n",
       "2                0             1       0  \n",
       "3                0             0       1  \n",
       "4                0             1       0  "
      ]
     },
     "execution_count": 8,
     "metadata": {},
     "output_type": "execute_result"
    }
   ],
   "source": [
    "data.head()"
   ]
  },
  {
   "cell_type": "code",
   "execution_count": 9,
   "id": "lucky-schedule",
   "metadata": {
    "execution": {
     "iopub.execute_input": "2021-05-07T05:46:59.151971Z",
     "iopub.status.busy": "2021-05-07T05:46:59.151318Z",
     "iopub.status.idle": "2021-05-07T05:46:59.156364Z",
     "shell.execute_reply": "2021-05-07T05:46:59.156893Z"
    },
    "papermill": {
     "duration": 0.040636,
     "end_time": "2021-05-07T05:46:59.157106",
     "exception": false,
     "start_time": "2021-05-07T05:46:59.116470",
     "status": "completed"
    },
    "tags": []
   },
   "outputs": [],
   "source": [
    "X = data.drop('stroke', axis='columns')\n",
    "y = data.stroke"
   ]
  },
  {
   "cell_type": "code",
   "execution_count": 10,
   "id": "willing-cisco",
   "metadata": {
    "execution": {
     "iopub.execute_input": "2021-05-07T05:46:59.242824Z",
     "iopub.status.busy": "2021-05-07T05:46:59.239308Z",
     "iopub.status.idle": "2021-05-07T05:46:59.247879Z",
     "shell.execute_reply": "2021-05-07T05:46:59.247208Z"
    },
    "papermill": {
     "duration": 0.059045,
     "end_time": "2021-05-07T05:46:59.248032",
     "exception": false,
     "start_time": "2021-05-07T05:46:59.188987",
     "status": "completed"
    },
    "tags": []
   },
   "outputs": [
    {
     "data": {
      "text/html": [
       "<div>\n",
       "<style scoped>\n",
       "    .dataframe tbody tr th:only-of-type {\n",
       "        vertical-align: middle;\n",
       "    }\n",
       "\n",
       "    .dataframe tbody tr th {\n",
       "        vertical-align: top;\n",
       "    }\n",
       "\n",
       "    .dataframe thead th {\n",
       "        text-align: right;\n",
       "    }\n",
       "</style>\n",
       "<table border=\"1\" class=\"dataframe\">\n",
       "  <thead>\n",
       "    <tr style=\"text-align: right;\">\n",
       "      <th></th>\n",
       "      <th>id</th>\n",
       "      <th>age</th>\n",
       "      <th>hypertension</th>\n",
       "      <th>heart_disease</th>\n",
       "      <th>avg_glucose_level</th>\n",
       "      <th>bmi</th>\n",
       "      <th>Male</th>\n",
       "      <th>Other</th>\n",
       "      <th>Yes</th>\n",
       "      <th>Never_worked</th>\n",
       "      <th>Private</th>\n",
       "      <th>Self-employed</th>\n",
       "      <th>children</th>\n",
       "      <th>Urban</th>\n",
       "      <th>formerly smoked</th>\n",
       "      <th>never smoked</th>\n",
       "      <th>smokes</th>\n",
       "    </tr>\n",
       "  </thead>\n",
       "  <tbody>\n",
       "    <tr>\n",
       "      <th>0</th>\n",
       "      <td>9046</td>\n",
       "      <td>67.0</td>\n",
       "      <td>0</td>\n",
       "      <td>1</td>\n",
       "      <td>228.69</td>\n",
       "      <td>36.6</td>\n",
       "      <td>1</td>\n",
       "      <td>0</td>\n",
       "      <td>1</td>\n",
       "      <td>0</td>\n",
       "      <td>1</td>\n",
       "      <td>0</td>\n",
       "      <td>0</td>\n",
       "      <td>1</td>\n",
       "      <td>1</td>\n",
       "      <td>0</td>\n",
       "      <td>0</td>\n",
       "    </tr>\n",
       "    <tr>\n",
       "      <th>1</th>\n",
       "      <td>51676</td>\n",
       "      <td>61.0</td>\n",
       "      <td>0</td>\n",
       "      <td>0</td>\n",
       "      <td>202.21</td>\n",
       "      <td>0.0</td>\n",
       "      <td>0</td>\n",
       "      <td>0</td>\n",
       "      <td>1</td>\n",
       "      <td>0</td>\n",
       "      <td>0</td>\n",
       "      <td>1</td>\n",
       "      <td>0</td>\n",
       "      <td>0</td>\n",
       "      <td>0</td>\n",
       "      <td>1</td>\n",
       "      <td>0</td>\n",
       "    </tr>\n",
       "    <tr>\n",
       "      <th>2</th>\n",
       "      <td>31112</td>\n",
       "      <td>80.0</td>\n",
       "      <td>0</td>\n",
       "      <td>1</td>\n",
       "      <td>105.92</td>\n",
       "      <td>32.5</td>\n",
       "      <td>1</td>\n",
       "      <td>0</td>\n",
       "      <td>1</td>\n",
       "      <td>0</td>\n",
       "      <td>1</td>\n",
       "      <td>0</td>\n",
       "      <td>0</td>\n",
       "      <td>0</td>\n",
       "      <td>0</td>\n",
       "      <td>1</td>\n",
       "      <td>0</td>\n",
       "    </tr>\n",
       "    <tr>\n",
       "      <th>3</th>\n",
       "      <td>60182</td>\n",
       "      <td>49.0</td>\n",
       "      <td>0</td>\n",
       "      <td>0</td>\n",
       "      <td>171.23</td>\n",
       "      <td>34.4</td>\n",
       "      <td>0</td>\n",
       "      <td>0</td>\n",
       "      <td>1</td>\n",
       "      <td>0</td>\n",
       "      <td>1</td>\n",
       "      <td>0</td>\n",
       "      <td>0</td>\n",
       "      <td>1</td>\n",
       "      <td>0</td>\n",
       "      <td>0</td>\n",
       "      <td>1</td>\n",
       "    </tr>\n",
       "    <tr>\n",
       "      <th>4</th>\n",
       "      <td>1665</td>\n",
       "      <td>79.0</td>\n",
       "      <td>1</td>\n",
       "      <td>0</td>\n",
       "      <td>174.12</td>\n",
       "      <td>24.0</td>\n",
       "      <td>0</td>\n",
       "      <td>0</td>\n",
       "      <td>1</td>\n",
       "      <td>0</td>\n",
       "      <td>0</td>\n",
       "      <td>1</td>\n",
       "      <td>0</td>\n",
       "      <td>0</td>\n",
       "      <td>0</td>\n",
       "      <td>1</td>\n",
       "      <td>0</td>\n",
       "    </tr>\n",
       "  </tbody>\n",
       "</table>\n",
       "</div>"
      ],
      "text/plain": [
       "      id   age  hypertension  heart_disease  avg_glucose_level   bmi  Male  \\\n",
       "0   9046  67.0             0              1             228.69  36.6     1   \n",
       "1  51676  61.0             0              0             202.21   0.0     0   \n",
       "2  31112  80.0             0              1             105.92  32.5     1   \n",
       "3  60182  49.0             0              0             171.23  34.4     0   \n",
       "4   1665  79.0             1              0             174.12  24.0     0   \n",
       "\n",
       "   Other  Yes  Never_worked  Private  Self-employed  children  Urban  \\\n",
       "0      0    1             0        1              0         0      1   \n",
       "1      0    1             0        0              1         0      0   \n",
       "2      0    1             0        1              0         0      0   \n",
       "3      0    1             0        1              0         0      1   \n",
       "4      0    1             0        0              1         0      0   \n",
       "\n",
       "   formerly smoked  never smoked  smokes  \n",
       "0                1             0       0  \n",
       "1                0             1       0  \n",
       "2                0             1       0  \n",
       "3                0             0       1  \n",
       "4                0             1       0  "
      ]
     },
     "execution_count": 10,
     "metadata": {},
     "output_type": "execute_result"
    }
   ],
   "source": [
    "X.head()"
   ]
  },
  {
   "cell_type": "code",
   "execution_count": 11,
   "id": "treated-cameroon",
   "metadata": {
    "execution": {
     "iopub.execute_input": "2021-05-07T05:46:59.332868Z",
     "iopub.status.busy": "2021-05-07T05:46:59.332231Z",
     "iopub.status.idle": "2021-05-07T05:46:59.335385Z",
     "shell.execute_reply": "2021-05-07T05:46:59.334808Z"
    },
    "papermill": {
     "duration": 0.054093,
     "end_time": "2021-05-07T05:46:59.335523",
     "exception": false,
     "start_time": "2021-05-07T05:46:59.281430",
     "status": "completed"
    },
    "tags": []
   },
   "outputs": [
    {
     "data": {
      "text/plain": [
       "0    1\n",
       "1    1\n",
       "2    1\n",
       "3    1\n",
       "4    1\n",
       "Name: stroke, dtype: int64"
      ]
     },
     "execution_count": 11,
     "metadata": {},
     "output_type": "execute_result"
    }
   ],
   "source": [
    "y.head()"
   ]
  },
  {
   "cell_type": "code",
   "execution_count": 12,
   "id": "major-fishing",
   "metadata": {
    "execution": {
     "iopub.execute_input": "2021-05-07T05:46:59.411816Z",
     "iopub.status.busy": "2021-05-07T05:46:59.411070Z",
     "iopub.status.idle": "2021-05-07T05:47:00.893199Z",
     "shell.execute_reply": "2021-05-07T05:47:00.892553Z"
    },
    "papermill": {
     "duration": 1.523685,
     "end_time": "2021-05-07T05:47:00.893358",
     "exception": false,
     "start_time": "2021-05-07T05:46:59.369673",
     "status": "completed"
    },
    "tags": []
   },
   "outputs": [],
   "source": [
    "from sklearn.model_selection import train_test_split\n",
    "X_train, X_test, y_train, y_test = train_test_split(X, y, test_size=0.3)"
   ]
  },
  {
   "cell_type": "code",
   "execution_count": 13,
   "id": "subtle-equivalent",
   "metadata": {
    "execution": {
     "iopub.execute_input": "2021-05-07T05:47:00.963602Z",
     "iopub.status.busy": "2021-05-07T05:47:00.962909Z",
     "iopub.status.idle": "2021-05-07T05:47:00.971893Z",
     "shell.execute_reply": "2021-05-07T05:47:00.971374Z"
    },
    "papermill": {
     "duration": 0.045563,
     "end_time": "2021-05-07T05:47:00.972011",
     "exception": false,
     "start_time": "2021-05-07T05:47:00.926448",
     "status": "completed"
    },
    "tags": []
   },
   "outputs": [
    {
     "data": {
      "text/plain": [
       "(3577, 17)"
      ]
     },
     "execution_count": 13,
     "metadata": {},
     "output_type": "execute_result"
    }
   ],
   "source": [
    "X_train.shape"
   ]
  },
  {
   "cell_type": "code",
   "execution_count": 14,
   "id": "portable-investigation",
   "metadata": {
    "execution": {
     "iopub.execute_input": "2021-05-07T05:47:01.022713Z",
     "iopub.status.busy": "2021-05-07T05:47:01.022170Z",
     "iopub.status.idle": "2021-05-07T05:47:01.027993Z",
     "shell.execute_reply": "2021-05-07T05:47:01.028411Z"
    },
    "papermill": {
     "duration": 0.034374,
     "end_time": "2021-05-07T05:47:01.028582",
     "exception": false,
     "start_time": "2021-05-07T05:47:00.994208",
     "status": "completed"
    },
    "tags": []
   },
   "outputs": [
    {
     "data": {
      "text/plain": [
       "(1533, 17)"
      ]
     },
     "execution_count": 14,
     "metadata": {},
     "output_type": "execute_result"
    }
   ],
   "source": [
    "X_test.shape"
   ]
  },
  {
   "cell_type": "markdown",
   "id": "heard-christianity",
   "metadata": {
    "papermill": {
     "duration": 0.022747,
     "end_time": "2021-05-07T05:47:01.074651",
     "exception": false,
     "start_time": "2021-05-07T05:47:01.051904",
     "status": "completed"
    },
    "tags": []
   },
   "source": [
    "## ANN Model with keras"
   ]
  },
  {
   "cell_type": "code",
   "execution_count": 15,
   "id": "structured-jamaica",
   "metadata": {
    "execution": {
     "iopub.execute_input": "2021-05-07T05:47:01.125376Z",
     "iopub.status.busy": "2021-05-07T05:47:01.124853Z",
     "iopub.status.idle": "2021-05-07T05:47:09.280916Z",
     "shell.execute_reply": "2021-05-07T05:47:09.279113Z"
    },
    "papermill": {
     "duration": 8.183609,
     "end_time": "2021-05-07T05:47:09.281080",
     "exception": false,
     "start_time": "2021-05-07T05:47:01.097471",
     "status": "completed"
    },
    "tags": []
   },
   "outputs": [],
   "source": [
    "import keras\n",
    "from keras.models import Sequential\n",
    "from keras.layers import Dense, Dropout, Activation\n",
    "import matplotlib.pyplot as plt"
   ]
  },
  {
   "cell_type": "code",
   "execution_count": 16,
   "id": "requested-affair",
   "metadata": {
    "execution": {
     "iopub.execute_input": "2021-05-07T05:47:09.334619Z",
     "iopub.status.busy": "2021-05-07T05:47:09.334042Z",
     "iopub.status.idle": "2021-05-07T05:47:09.452099Z",
     "shell.execute_reply": "2021-05-07T05:47:09.451656Z"
    },
    "papermill": {
     "duration": 0.147869,
     "end_time": "2021-05-07T05:47:09.452240",
     "exception": false,
     "start_time": "2021-05-07T05:47:09.304371",
     "status": "completed"
    },
    "tags": []
   },
   "outputs": [],
   "source": [
    "model = Sequential()\n",
    "# add first hidden layer with input diamension\n",
    "model.add(Dense(units = 32, activation='relu', kernel_initializer = 'he_uniform', input_dim = 17))\n",
    "# add second hidden layer\n",
    "model.add(Dense(units = 16, activation='relu', kernel_initializer = 'he_uniform'))\n",
    "# add output layer\n",
    "model.add(Dense(units = 1, activation = 'sigmoid', kernel_initializer = 'glorot_uniform'))"
   ]
  },
  {
   "cell_type": "code",
   "execution_count": 17,
   "id": "thick-auditor",
   "metadata": {
    "execution": {
     "iopub.execute_input": "2021-05-07T05:47:09.516518Z",
     "iopub.status.busy": "2021-05-07T05:47:09.515893Z",
     "iopub.status.idle": "2021-05-07T05:47:13.060916Z",
     "shell.execute_reply": "2021-05-07T05:47:13.060360Z"
    },
    "papermill": {
     "duration": 3.5856,
     "end_time": "2021-05-07T05:47:13.061050",
     "exception": false,
     "start_time": "2021-05-07T05:47:09.475450",
     "status": "completed"
    },
    "tags": []
   },
   "outputs": [
    {
     "name": "stdout",
     "output_type": "stream",
     "text": [
      "Epoch 1/50\n",
      "28/28 [==============================] - 1s 2ms/step - loss: 190.8086 - accuracy: 0.9059\n",
      "Epoch 2/50\n",
      "28/28 [==============================] - 0s 2ms/step - loss: 52.6838 - accuracy: 0.9362\n",
      "Epoch 3/50\n",
      "28/28 [==============================] - 0s 2ms/step - loss: 16.0776 - accuracy: 0.9106\n",
      "Epoch 4/50\n",
      "28/28 [==============================] - 0s 2ms/step - loss: 13.8401 - accuracy: 0.8401\n",
      "Epoch 5/50\n",
      "28/28 [==============================] - 0s 2ms/step - loss: 18.8502 - accuracy: 0.8968\n",
      "Epoch 6/50\n",
      "28/28 [==============================] - 0s 2ms/step - loss: 24.7428 - accuracy: 0.9294\n",
      "Epoch 7/50\n",
      "28/28 [==============================] - 0s 2ms/step - loss: 18.6291 - accuracy: 0.9062\n",
      "Epoch 8/50\n",
      "28/28 [==============================] - 0s 2ms/step - loss: 21.8305 - accuracy: 0.9396\n",
      "Epoch 9/50\n",
      "28/28 [==============================] - 0s 2ms/step - loss: 18.4539 - accuracy: 0.9106\n",
      "Epoch 10/50\n",
      "28/28 [==============================] - 0s 2ms/step - loss: 17.7905 - accuracy: 0.9291\n",
      "Epoch 11/50\n",
      "28/28 [==============================] - 0s 2ms/step - loss: 17.5645 - accuracy: 0.9067\n",
      "Epoch 12/50\n",
      "28/28 [==============================] - 0s 2ms/step - loss: 21.9352 - accuracy: 0.9196\n",
      "Epoch 13/50\n",
      "28/28 [==============================] - 0s 2ms/step - loss: 13.0994 - accuracy: 0.8868\n",
      "Epoch 14/50\n",
      "28/28 [==============================] - 0s 2ms/step - loss: 22.0317 - accuracy: 0.9143\n",
      "Epoch 15/50\n",
      "28/28 [==============================] - 0s 2ms/step - loss: 20.8794 - accuracy: 0.8158\n",
      "Epoch 16/50\n",
      "28/28 [==============================] - 0s 2ms/step - loss: 16.5122 - accuracy: 0.9062\n",
      "Epoch 17/50\n",
      "28/28 [==============================] - 0s 2ms/step - loss: 28.5575 - accuracy: 0.9327\n",
      "Epoch 18/50\n",
      "28/28 [==============================] - 0s 2ms/step - loss: 20.8526 - accuracy: 0.8983\n",
      "Epoch 19/50\n",
      "28/28 [==============================] - 0s 2ms/step - loss: 7.3378 - accuracy: 0.8764\n",
      "Epoch 20/50\n",
      "28/28 [==============================] - 0s 2ms/step - loss: 11.6474 - accuracy: 0.8909\n",
      "Epoch 21/50\n",
      "28/28 [==============================] - 0s 2ms/step - loss: 20.2165 - accuracy: 0.9218\n",
      "Epoch 22/50\n",
      "28/28 [==============================] - 0s 1ms/step - loss: 11.3832 - accuracy: 0.8915\n",
      "Epoch 23/50\n",
      "28/28 [==============================] - 0s 2ms/step - loss: 19.0846 - accuracy: 0.9199\n",
      "Epoch 24/50\n",
      "28/28 [==============================] - 0s 2ms/step - loss: 12.1052 - accuracy: 0.8738\n",
      "Epoch 25/50\n",
      "28/28 [==============================] - 0s 1ms/step - loss: 16.6098 - accuracy: 0.9125\n",
      "Epoch 26/50\n",
      "28/28 [==============================] - 0s 1ms/step - loss: 19.6406 - accuracy: 0.9327\n",
      "Epoch 27/50\n",
      "28/28 [==============================] - 0s 2ms/step - loss: 20.6707 - accuracy: 0.9050\n",
      "Epoch 28/50\n",
      "28/28 [==============================] - 0s 1ms/step - loss: 20.3906 - accuracy: 0.8670\n",
      "Epoch 29/50\n",
      "28/28 [==============================] - 0s 1ms/step - loss: 22.3697 - accuracy: 0.8139\n",
      "Epoch 30/50\n",
      "28/28 [==============================] - 0s 1ms/step - loss: 14.2579 - accuracy: 0.9080\n",
      "Epoch 31/50\n",
      "28/28 [==============================] - 0s 2ms/step - loss: 23.4889 - accuracy: 0.9239\n",
      "Epoch 32/50\n",
      "28/28 [==============================] - 0s 2ms/step - loss: 22.7381 - accuracy: 0.9088\n",
      "Epoch 33/50\n",
      "28/28 [==============================] - 0s 2ms/step - loss: 11.1110 - accuracy: 0.8445\n",
      "Epoch 34/50\n",
      "28/28 [==============================] - 0s 2ms/step - loss: 13.9242 - accuracy: 0.8729\n",
      "Epoch 35/50\n",
      "28/28 [==============================] - 0s 2ms/step - loss: 23.8431 - accuracy: 0.9278\n",
      "Epoch 36/50\n",
      "28/28 [==============================] - 0s 2ms/step - loss: 14.4734 - accuracy: 0.8855\n",
      "Epoch 37/50\n",
      "28/28 [==============================] - 0s 2ms/step - loss: 19.8453 - accuracy: 0.9324\n",
      "Epoch 38/50\n",
      "28/28 [==============================] - 0s 2ms/step - loss: 15.3921 - accuracy: 0.8761\n",
      "Epoch 39/50\n",
      "28/28 [==============================] - 0s 2ms/step - loss: 23.0670 - accuracy: 0.9264\n",
      "Epoch 40/50\n",
      "28/28 [==============================] - 0s 2ms/step - loss: 24.4223 - accuracy: 0.9038\n",
      "Epoch 41/50\n",
      "28/28 [==============================] - 0s 2ms/step - loss: 18.1707 - accuracy: 0.8428\n",
      "Epoch 42/50\n",
      "28/28 [==============================] - 0s 2ms/step - loss: 29.6358 - accuracy: 0.9348\n",
      "Epoch 43/50\n",
      "28/28 [==============================] - 0s 2ms/step - loss: 10.3362 - accuracy: 0.8992\n",
      "Epoch 44/50\n",
      "28/28 [==============================] - 0s 2ms/step - loss: 11.7914 - accuracy: 0.9318\n",
      "Epoch 45/50\n",
      "28/28 [==============================] - 0s 2ms/step - loss: 17.8581 - accuracy: 0.8358\n",
      "Epoch 46/50\n",
      "28/28 [==============================] - 0s 2ms/step - loss: 14.5282 - accuracy: 0.9256\n",
      "Epoch 47/50\n",
      "28/28 [==============================] - 0s 2ms/step - loss: 17.0784 - accuracy: 0.9325\n",
      "Epoch 48/50\n",
      "28/28 [==============================] - 0s 2ms/step - loss: 7.5433 - accuracy: 0.9069\n",
      "Epoch 49/50\n",
      "28/28 [==============================] - 0s 2ms/step - loss: 21.3731 - accuracy: 0.9053\n",
      "Epoch 50/50\n",
      "28/28 [==============================] - 0s 2ms/step - loss: 13.1724 - accuracy: 0.9287\n"
     ]
    },
    {
     "data": {
      "text/plain": [
       "<tensorflow.python.keras.callbacks.History at 0x7f1d7467fbd0>"
      ]
     },
     "execution_count": 17,
     "metadata": {},
     "output_type": "execute_result"
    }
   ],
   "source": [
    "# now we compile the model\n",
    "model.compile(optimizer = 'adam', loss = 'binary_crossentropy', metrics = ['accuracy'])\n",
    "# train the model\n",
    "model.fit(X_train, y_train, batch_size = 128, epochs = 50, verbose = 1)"
   ]
  },
  {
   "cell_type": "code",
   "execution_count": 18,
   "id": "indirect-petite",
   "metadata": {
    "execution": {
     "iopub.execute_input": "2021-05-07T05:47:13.184355Z",
     "iopub.status.busy": "2021-05-07T05:47:13.180691Z",
     "iopub.status.idle": "2021-05-07T05:47:13.742514Z",
     "shell.execute_reply": "2021-05-07T05:47:13.741801Z"
    },
    "papermill": {
     "duration": 0.625786,
     "end_time": "2021-05-07T05:47:13.742659",
     "exception": false,
     "start_time": "2021-05-07T05:47:13.116873",
     "status": "completed"
    },
    "tags": []
   },
   "outputs": [
    {
     "name": "stdout",
     "output_type": "stream",
     "text": [
      "48/48 [==============================] - 1s 1ms/step - loss: 15.3341 - accuracy: 0.9576\n"
     ]
    }
   ],
   "source": [
    "acc = model.evaluate(X_test, y_test)"
   ]
  },
  {
   "cell_type": "code",
   "execution_count": 19,
   "id": "european-advocate",
   "metadata": {
    "execution": {
     "iopub.execute_input": "2021-05-07T05:47:13.931153Z",
     "iopub.status.busy": "2021-05-07T05:47:13.929736Z",
     "iopub.status.idle": "2021-05-07T05:47:13.938363Z",
     "shell.execute_reply": "2021-05-07T05:47:13.937622Z"
    },
    "papermill": {
     "duration": 0.105751,
     "end_time": "2021-05-07T05:47:13.938517",
     "exception": false,
     "start_time": "2021-05-07T05:47:13.832766",
     "status": "completed"
    },
    "tags": []
   },
   "outputs": [
    {
     "name": "stdout",
     "output_type": "stream",
     "text": [
      "Model: \"sequential\"\n",
      "_________________________________________________________________\n",
      "Layer (type)                 Output Shape              Param #   \n",
      "=================================================================\n",
      "dense (Dense)                (None, 32)                576       \n",
      "_________________________________________________________________\n",
      "dense_1 (Dense)              (None, 16)                528       \n",
      "_________________________________________________________________\n",
      "dense_2 (Dense)              (None, 1)                 17        \n",
      "=================================================================\n",
      "Total params: 1,121\n",
      "Trainable params: 1,121\n",
      "Non-trainable params: 0\n",
      "_________________________________________________________________\n"
     ]
    }
   ],
   "source": [
    "model.summary()"
   ]
  },
  {
   "cell_type": "code",
   "execution_count": 20,
   "id": "incorrect-middle",
   "metadata": {
    "execution": {
     "iopub.execute_input": "2021-05-07T05:47:14.125658Z",
     "iopub.status.busy": "2021-05-07T05:47:14.124925Z",
     "iopub.status.idle": "2021-05-07T05:47:14.281078Z",
     "shell.execute_reply": "2021-05-07T05:47:14.281876Z"
    },
    "papermill": {
     "duration": 0.252756,
     "end_time": "2021-05-07T05:47:14.282057",
     "exception": false,
     "start_time": "2021-05-07T05:47:14.029301",
     "status": "completed"
    },
    "tags": []
   },
   "outputs": [],
   "source": [
    "y_ann = model.predict(X_test)\n",
    "y_ann = y_ann > 0.5"
   ]
  },
  {
   "cell_type": "code",
   "execution_count": 21,
   "id": "shared-testing",
   "metadata": {
    "execution": {
     "iopub.execute_input": "2021-05-07T05:47:14.463614Z",
     "iopub.status.busy": "2021-05-07T05:47:14.462747Z",
     "iopub.status.idle": "2021-05-07T05:47:14.477635Z",
     "shell.execute_reply": "2021-05-07T05:47:14.476928Z"
    },
    "papermill": {
     "duration": 0.106553,
     "end_time": "2021-05-07T05:47:14.477779",
     "exception": false,
     "start_time": "2021-05-07T05:47:14.371226",
     "status": "completed"
    },
    "tags": []
   },
   "outputs": [
    {
     "data": {
      "text/plain": [
       "array([[1468,   63],\n",
       "       [   2,    0]])"
      ]
     },
     "execution_count": 21,
     "metadata": {},
     "output_type": "execute_result"
    }
   ],
   "source": [
    "from sklearn.metrics import confusion_matrix\n",
    "cm = confusion_matrix(y_ann, y_test)\n",
    "cm"
   ]
  },
  {
   "cell_type": "markdown",
   "id": "conscious-method",
   "metadata": {
    "papermill": {
     "duration": 0.088822,
     "end_time": "2021-05-07T05:47:14.657922",
     "exception": false,
     "start_time": "2021-05-07T05:47:14.569100",
     "status": "completed"
    },
    "tags": []
   },
   "source": [
    "## Support Vector Machine (SVM)"
   ]
  },
  {
   "cell_type": "code",
   "execution_count": 22,
   "id": "specific-antique",
   "metadata": {
    "execution": {
     "iopub.execute_input": "2021-05-07T05:47:14.840575Z",
     "iopub.status.busy": "2021-05-07T05:47:14.839883Z",
     "iopub.status.idle": "2021-05-07T05:47:15.105249Z",
     "shell.execute_reply": "2021-05-07T05:47:15.104683Z"
    },
    "papermill": {
     "duration": 0.358325,
     "end_time": "2021-05-07T05:47:15.105382",
     "exception": false,
     "start_time": "2021-05-07T05:47:14.747057",
     "status": "completed"
    },
    "tags": []
   },
   "outputs": [
    {
     "data": {
      "text/plain": [
       "0.958904109589041"
      ]
     },
     "execution_count": 22,
     "metadata": {},
     "output_type": "execute_result"
    }
   ],
   "source": [
    "from sklearn.svm import SVC\n",
    "from sklearn.metrics import accuracy_score\n",
    "model_svm = SVC()\n",
    "model_svm.fit(X_train, y_train)\n",
    "y_svm = model_svm.predict(X_test)\n",
    "acc_svm = accuracy_score(y_svm, y_test)\n",
    "cm_svm = confusion_matrix(y_svm, y_test)\n",
    "acc_svm"
   ]
  },
  {
   "cell_type": "code",
   "execution_count": 23,
   "id": "popular-russia",
   "metadata": {
    "execution": {
     "iopub.execute_input": "2021-05-07T05:47:15.231560Z",
     "iopub.status.busy": "2021-05-07T05:47:15.230744Z",
     "iopub.status.idle": "2021-05-07T05:47:15.237301Z",
     "shell.execute_reply": "2021-05-07T05:47:15.236756Z"
    },
    "papermill": {
     "duration": 0.071158,
     "end_time": "2021-05-07T05:47:15.237419",
     "exception": false,
     "start_time": "2021-05-07T05:47:15.166261",
     "status": "completed"
    },
    "tags": []
   },
   "outputs": [
    {
     "data": {
      "text/plain": [
       "array([[1470,   63],\n",
       "       [   0,    0]])"
      ]
     },
     "execution_count": 23,
     "metadata": {},
     "output_type": "execute_result"
    }
   ],
   "source": [
    "cm_svm"
   ]
  },
  {
   "cell_type": "code",
   "execution_count": 24,
   "id": "false-equilibrium",
   "metadata": {
    "execution": {
     "iopub.execute_input": "2021-05-07T05:47:15.364906Z",
     "iopub.status.busy": "2021-05-07T05:47:15.363095Z",
     "iopub.status.idle": "2021-05-07T05:47:15.378858Z",
     "shell.execute_reply": "2021-05-07T05:47:15.378366Z"
    },
    "papermill": {
     "duration": 0.082317,
     "end_time": "2021-05-07T05:47:15.378973",
     "exception": false,
     "start_time": "2021-05-07T05:47:15.296656",
     "status": "completed"
    },
    "tags": []
   },
   "outputs": [
    {
     "name": "stdout",
     "output_type": "stream",
     "text": [
      "              precision    recall  f1-score   support\n",
      "\n",
      "           0       1.00      0.96      0.98      1533\n",
      "           1       0.00      0.00      0.00         0\n",
      "\n",
      "    accuracy                           0.96      1533\n",
      "   macro avg       0.50      0.48      0.49      1533\n",
      "weighted avg       1.00      0.96      0.98      1533\n",
      "\n"
     ]
    },
    {
     "name": "stderr",
     "output_type": "stream",
     "text": [
      "/opt/conda/lib/python3.7/site-packages/sklearn/metrics/_classification.py:1245: UndefinedMetricWarning: Recall and F-score are ill-defined and being set to 0.0 in labels with no true samples. Use `zero_division` parameter to control this behavior.\n",
      "  _warn_prf(average, modifier, msg_start, len(result))\n",
      "/opt/conda/lib/python3.7/site-packages/sklearn/metrics/_classification.py:1245: UndefinedMetricWarning: Recall and F-score are ill-defined and being set to 0.0 in labels with no true samples. Use `zero_division` parameter to control this behavior.\n",
      "  _warn_prf(average, modifier, msg_start, len(result))\n",
      "/opt/conda/lib/python3.7/site-packages/sklearn/metrics/_classification.py:1245: UndefinedMetricWarning: Recall and F-score are ill-defined and being set to 0.0 in labels with no true samples. Use `zero_division` parameter to control this behavior.\n",
      "  _warn_prf(average, modifier, msg_start, len(result))\n"
     ]
    }
   ],
   "source": [
    "from sklearn.metrics import classification_report\n",
    "print(classification_report(y_svm, y_test))"
   ]
  },
  {
   "cell_type": "markdown",
   "id": "short-welsh",
   "metadata": {
    "papermill": {
     "duration": 0.063609,
     "end_time": "2021-05-07T05:47:15.503201",
     "exception": false,
     "start_time": "2021-05-07T05:47:15.439592",
     "status": "completed"
    },
    "tags": []
   },
   "source": [
    "## Random Forest Model"
   ]
  },
  {
   "cell_type": "code",
   "execution_count": 25,
   "id": "blessed-homework",
   "metadata": {
    "execution": {
     "iopub.execute_input": "2021-05-07T05:47:15.629488Z",
     "iopub.status.busy": "2021-05-07T05:47:15.628814Z",
     "iopub.status.idle": "2021-05-07T05:47:16.315521Z",
     "shell.execute_reply": "2021-05-07T05:47:16.314966Z"
    },
    "papermill": {
     "duration": 0.752957,
     "end_time": "2021-05-07T05:47:16.315639",
     "exception": false,
     "start_time": "2021-05-07T05:47:15.562682",
     "status": "completed"
    },
    "tags": []
   },
   "outputs": [
    {
     "data": {
      "text/plain": [
       "0.95955642530985"
      ]
     },
     "execution_count": 25,
     "metadata": {},
     "output_type": "execute_result"
    }
   ],
   "source": [
    "from sklearn.ensemble import RandomForestClassifier\n",
    "model_rf = RandomForestClassifier()\n",
    "model_rf.fit(X_train, y_train)\n",
    "y_rf = model_rf.predict(X_test)\n",
    "acc_rf = accuracy_score(y_rf, y_test)\n",
    "cm_rf = confusion_matrix(y_rf, y_test)\n",
    "acc_rf"
   ]
  },
  {
   "cell_type": "code",
   "execution_count": 26,
   "id": "finite-hammer",
   "metadata": {
    "execution": {
     "iopub.execute_input": "2021-05-07T05:47:16.443110Z",
     "iopub.status.busy": "2021-05-07T05:47:16.442425Z",
     "iopub.status.idle": "2021-05-07T05:47:16.448453Z",
     "shell.execute_reply": "2021-05-07T05:47:16.447817Z"
    },
    "papermill": {
     "duration": 0.072252,
     "end_time": "2021-05-07T05:47:16.448599",
     "exception": false,
     "start_time": "2021-05-07T05:47:16.376347",
     "status": "completed"
    },
    "tags": []
   },
   "outputs": [
    {
     "data": {
      "text/plain": [
       "array([[1470,   62],\n",
       "       [   0,    1]])"
      ]
     },
     "execution_count": 26,
     "metadata": {},
     "output_type": "execute_result"
    }
   ],
   "source": [
    "cm_rf"
   ]
  },
  {
   "cell_type": "code",
   "execution_count": 27,
   "id": "baking-performer",
   "metadata": {
    "execution": {
     "iopub.execute_input": "2021-05-07T05:47:16.643315Z",
     "iopub.status.busy": "2021-05-07T05:47:16.642625Z",
     "iopub.status.idle": "2021-05-07T05:47:16.648933Z",
     "shell.execute_reply": "2021-05-07T05:47:16.649389Z"
    },
    "papermill": {
     "duration": 0.105859,
     "end_time": "2021-05-07T05:47:16.649585",
     "exception": false,
     "start_time": "2021-05-07T05:47:16.543726",
     "status": "completed"
    },
    "tags": []
   },
   "outputs": [
    {
     "name": "stdout",
     "output_type": "stream",
     "text": [
      "              precision    recall  f1-score   support\n",
      "\n",
      "           0       1.00      0.96      0.98      1532\n",
      "           1       0.02      1.00      0.03         1\n",
      "\n",
      "    accuracy                           0.96      1533\n",
      "   macro avg       0.51      0.98      0.51      1533\n",
      "weighted avg       1.00      0.96      0.98      1533\n",
      "\n"
     ]
    }
   ],
   "source": [
    "from sklearn.metrics import classification_report\n",
    "print(classification_report(y_rf, y_test))"
   ]
  },
  {
   "cell_type": "code",
   "execution_count": 28,
   "id": "resident-scanner",
   "metadata": {
    "execution": {
     "iopub.execute_input": "2021-05-07T05:47:16.780578Z",
     "iopub.status.busy": "2021-05-07T05:47:16.779885Z",
     "iopub.status.idle": "2021-05-07T05:47:16.783030Z",
     "shell.execute_reply": "2021-05-07T05:47:16.783511Z"
    },
    "papermill": {
     "duration": 0.071727,
     "end_time": "2021-05-07T05:47:16.783649",
     "exception": false,
     "start_time": "2021-05-07T05:47:16.711922",
     "status": "completed"
    },
    "tags": []
   },
   "outputs": [
    {
     "name": "stdout",
     "output_type": "stream",
     "text": [
      "Artificial Neural Network Accuracy :  [15.334075927734375, 0.9575994610786438]\n",
      "Support Vector Machine Accuracy :  0.958904109589041\n",
      "Random Forest Accuracy :  0.95955642530985\n"
     ]
    }
   ],
   "source": [
    "print(\"Artificial Neural Network Accuracy : \", acc)\n",
    "print(\"Support Vector Machine Accuracy : \", acc_svm)\n",
    "print(\"Random Forest Accuracy : \", acc_rf)"
   ]
  },
  {
   "cell_type": "code",
   "execution_count": null,
   "id": "anonymous-glasgow",
   "metadata": {
    "papermill": {
     "duration": 0.061269,
     "end_time": "2021-05-07T05:47:16.906552",
     "exception": false,
     "start_time": "2021-05-07T05:47:16.845283",
     "status": "completed"
    },
    "tags": []
   },
   "outputs": [],
   "source": []
  }
 ],
 "metadata": {
  "kernelspec": {
   "display_name": "Python 3",
   "language": "python",
   "name": "python3"
  },
  "language_info": {
   "codemirror_mode": {
    "name": "ipython",
    "version": 3
   },
   "file_extension": ".py",
   "mimetype": "text/x-python",
   "name": "python",
   "nbconvert_exporter": "python",
   "pygments_lexer": "ipython3",
   "version": "3.7.9"
  },
  "papermill": {
   "default_parameters": {},
   "duration": 26.893908,
   "end_time": "2021-05-07T05:47:18.181752",
   "environment_variables": {},
   "exception": null,
   "input_path": "__notebook__.ipynb",
   "output_path": "__notebook__.ipynb",
   "parameters": {},
   "start_time": "2021-05-07T05:46:51.287844",
   "version": "2.3.2"
  }
 },
 "nbformat": 4,
 "nbformat_minor": 5
}
